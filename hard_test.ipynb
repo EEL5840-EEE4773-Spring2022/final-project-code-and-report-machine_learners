{
 "cells": [
  {
   "cell_type": "code",
   "execution_count": 36,
   "id": "515da298-0ee4-4be1-8d3b-316013021918",
   "metadata": {},
   "outputs": [
    {
     "name": "stdout",
     "output_type": "stream",
     "text": [
      "(90000, 400) (400,)\n"
     ]
    }
   ],
   "source": [
    "from tensorflow.keras.utils import to_categorical\n",
    "from tensorflow.keras.models import Sequential, load_model\n",
    "from tensorflow.keras.layers import Conv2D, Dropout, RandomFlip, RandomRotation, RandomZoom, RandomContrast, RandomCrop, MaxPooling2D, Dense, Flatten\n",
    "from tensorflow.keras.losses import SparseCategoricalCrossentropy\n",
    "from tensorflow.keras.optimizers import Adam\n",
    "from sklearn.metrics import accuracy_score, confusion_matrix\n",
    "from tensorflow.keras.layers import BatchNormalization\n",
    "from numpy import mean, std \n",
    "from matplotlib import pyplot as plt\n",
    "import tensorflow as tf\n",
    "import numpy as np\n",
    "import pandas as pd\n",
    "import numpy.random as npr\n",
    "import matplotlib.pyplot as plt\n",
    "%matplotlib inline\n",
    "plt.style.use('bmh')\n",
    "\n",
    "# Loading Hard Test Data\n",
    "\n",
    "data_train = np.load('data.npy')\n",
    "labels_train = np.load('labels.npy')\n",
    "\n",
    "print(data_train.shape, labels_train.shape)"
   ]
  },
  {
   "cell_type": "code",
   "execution_count": 37,
   "id": "7bda3fc9-0874-45d7-87a9-da5d6b39bff8",
   "metadata": {},
   "outputs": [],
   "source": [
    "import cv2\n",
    "hard_test_data_length = data_train.shape[1]\n",
    "def load_hard_test_data(length):\n",
    "    # load dataset\n",
    "    data_rgb = []\n",
    "    kernel = np.ones((4,4),np.uint8)\n",
    "    for i in range(hard_test_data_length):\n",
    "        data_rgb.append(data_train[:,i].reshape(300,300))\n",
    "        data_rgb[i] = cv2.medianBlur(data_rgb[i], 3)\n",
    "        data_rgb[i] = cv2.morphologyEx(data_rgb[i], cv2.MORPH_OPEN, kernel)\n",
    "        data_rgb[i] = cv2.resize(data_rgb[i], (50,50), interpolation=cv2.INTER_AREA)\n",
    "    data_rgb = np.array(data_rgb)\n",
    "    print(data_rgb.shape)\n",
    "    \n",
    "    # reshape dataset to have a single channel\n",
    "    data_rgb = data_rgb.reshape((data_rgb.shape[0], 50,50, 1))\n",
    "    \n",
    "    # one hot encode target values\n",
    "    labels = to_categorical(labels_train)\n",
    "    print(data_rgb.shape, labels.shape)\n",
    "    return data_rgb, labels"
   ]
  },
  {
   "cell_type": "code",
   "execution_count": 38,
   "id": "a39ee78d-9851-4e78-924d-4cd9dfc0860f",
   "metadata": {},
   "outputs": [],
   "source": [
    "# scale pixels\n",
    "def prep_pixels(data):\n",
    "    # convert from integers to floats\n",
    "    data = data.astype('float32')\n",
    "    \n",
    "    # he_uniformize to range 0-1\n",
    "    data_norm = (data) / 255.0\n",
    "    \n",
    "    # return he_uniformized images\n",
    "    return data_norm"
   ]
  },
  {
   "cell_type": "code",
   "execution_count": 39,
   "id": "e7034586-f74e-41d4-9c95-229f64e47aec",
   "metadata": {},
   "outputs": [],
   "source": [
    "model = load_model('Final_CNN')"
   ]
  },
  {
   "cell_type": "code",
   "execution_count": 40,
   "id": "2b3cad0f-b000-43e9-af35-3141a9cc244e",
   "metadata": {},
   "outputs": [
    {
     "name": "stdout",
     "output_type": "stream",
     "text": [
      "(400, 50, 50)\n",
      "(400, 50, 50, 1) (400, 10)\n"
     ]
    }
   ],
   "source": [
    "hard_test_data, hard_test_label = load_hard_test_data(hard_test_data_length)\n",
    "    \n",
    "# prepare pixel data\n",
    "hard_test_data = prep_pixels(hard_test_data)"
   ]
  },
  {
   "cell_type": "code",
   "execution_count": 41,
   "id": "bc550f4f-07aa-412a-ae9a-aa6d56ed6a2e",
   "metadata": {},
   "outputs": [
    {
     "name": "stdout",
     "output_type": "stream",
     "text": [
      "(400, 10) (400, 10)\n"
     ]
    },
    {
     "data": {
      "text/html": [
       "<div>\n",
       "<style scoped>\n",
       "    .dataframe tbody tr th:only-of-type {\n",
       "        vertical-align: middle;\n",
       "    }\n",
       "\n",
       "    .dataframe tbody tr th {\n",
       "        vertical-align: top;\n",
       "    }\n",
       "\n",
       "    .dataframe thead th {\n",
       "        text-align: right;\n",
       "    }\n",
       "</style>\n",
       "<table border=\"1\" class=\"dataframe\">\n",
       "  <thead>\n",
       "    <tr style=\"text-align: right;\">\n",
       "      <th></th>\n",
       "      <th>TRUE LABEL</th>\n",
       "      <th>LABEL PREDICTED</th>\n",
       "    </tr>\n",
       "  </thead>\n",
       "  <tbody>\n",
       "    <tr>\n",
       "      <th>0</th>\n",
       "      <td>0</td>\n",
       "      <td>0</td>\n",
       "    </tr>\n",
       "    <tr>\n",
       "      <th>1</th>\n",
       "      <td>1</td>\n",
       "      <td>1</td>\n",
       "    </tr>\n",
       "    <tr>\n",
       "      <th>2</th>\n",
       "      <td>2</td>\n",
       "      <td>2</td>\n",
       "    </tr>\n",
       "    <tr>\n",
       "      <th>3</th>\n",
       "      <td>3</td>\n",
       "      <td>3</td>\n",
       "    </tr>\n",
       "    <tr>\n",
       "      <th>4</th>\n",
       "      <td>4</td>\n",
       "      <td>4</td>\n",
       "    </tr>\n",
       "    <tr>\n",
       "      <th>...</th>\n",
       "      <td>...</td>\n",
       "      <td>...</td>\n",
       "    </tr>\n",
       "    <tr>\n",
       "      <th>395</th>\n",
       "      <td>5</td>\n",
       "      <td>5</td>\n",
       "    </tr>\n",
       "    <tr>\n",
       "      <th>396</th>\n",
       "      <td>6</td>\n",
       "      <td>6</td>\n",
       "    </tr>\n",
       "    <tr>\n",
       "      <th>397</th>\n",
       "      <td>7</td>\n",
       "      <td>7</td>\n",
       "    </tr>\n",
       "    <tr>\n",
       "      <th>398</th>\n",
       "      <td>8</td>\n",
       "      <td>8</td>\n",
       "    </tr>\n",
       "    <tr>\n",
       "      <th>399</th>\n",
       "      <td>9</td>\n",
       "      <td>9</td>\n",
       "    </tr>\n",
       "  </tbody>\n",
       "</table>\n",
       "<p>400 rows × 2 columns</p>\n",
       "</div>"
      ],
      "text/plain": [
       "     TRUE LABEL  LABEL PREDICTED\n",
       "0             0                0\n",
       "1             1                1\n",
       "2             2                2\n",
       "3             3                3\n",
       "4             4                4\n",
       "..          ...              ...\n",
       "395           5                5\n",
       "396           6                6\n",
       "397           7                7\n",
       "398           8                8\n",
       "399           9                9\n",
       "\n",
       "[400 rows x 2 columns]"
      ]
     },
     "execution_count": 41,
     "metadata": {},
     "output_type": "execute_result"
    }
   ],
   "source": [
    "pred = model.predict(hard_test_data)\n",
    "print(hard_test_label.shape, pred.shape)\n",
    "prediction = []\n",
    "y_pred = np.argmax(pred, axis=1)\n",
    "y_true = np.argmax(hard_test_label, axis=1)\n",
    "for i in range(hard_test_data_length):\n",
    "    if max(pred[i]) < 0.9:\n",
    "        y_pred[i] = -1\n",
    "    prediction.extend([y_true[i], y_pred[i]])\n",
    "prediction = np.array(prediction)\n",
    "prediction = np.reshape(prediction, (hard_test_data_length,2))\n",
    "df = pd.DataFrame (prediction, columns = ['TRUE LABEL', 'LABEL PREDICTED'])\n",
    "df"
   ]
  },
  {
   "cell_type": "code",
   "execution_count": 42,
   "id": "8441d7dd",
   "metadata": {},
   "outputs": [
    {
     "name": "stdout",
     "output_type": "stream",
     "text": [
      "CONFUSION MATRIX: \n",
      "[[ 0  0  0  0  0  0  0  0  0  0  0]\n",
      " [ 1 39  0  0  0  0  0  0  0  0  0]\n",
      " [ 0  0 40  0  0  0  0  0  0  0  0]\n",
      " [ 2  0  0 38  0  0  0  0  0  0  0]\n",
      " [ 0  0  0  0 40  0  0  0  0  0  0]\n",
      " [ 0  0  0  0  0 40  0  0  0  0  0]\n",
      " [ 0  0  0  0  0  0 40  0  0  0  0]\n",
      " [ 0  0  0  0  0  0  0 40  0  0  0]\n",
      " [ 0  0  0  0  0  0  0  0 40  0  0]\n",
      " [ 0  0  0  0  0  0  0  0  0 40  0]\n",
      " [ 0  0  0  0  0  0  0  0  0  0 40]]\n"
     ]
    }
   ],
   "source": [
    "print(\"CONFUSION MATRIX: \")\n",
    "print(confusion_matrix(y_true,y_pred))"
   ]
  },
  {
   "cell_type": "code",
   "execution_count": 43,
   "id": "d17c662d",
   "metadata": {},
   "outputs": [
    {
     "name": "stdout",
     "output_type": "stream",
     "text": [
      "ACCUARCY : -  0.9925\n"
     ]
    }
   ],
   "source": [
    "print(\"ACCUARCY : - \",accuracy_score(y_true, y_pred))"
   ]
  }
 ],
 "metadata": {
  "interpreter": {
   "hash": "df0165a5ac2d3a67f880133562c89647d47d0258cd9f192c73a0f6e19b240889"
  },
  "kernelspec": {
   "display_name": "Tensorflow-2.6.0",
   "language": "python",
   "name": "python3"
  },
  "language_info": {
   "codemirror_mode": {
    "name": "ipython",
    "version": 3
   },
   "file_extension": ".py",
   "mimetype": "text/x-python",
   "name": "python",
   "nbconvert_exporter": "python",
   "pygments_lexer": "ipython3",
   "version": "3.10.3"
  }
 },
 "nbformat": 4,
 "nbformat_minor": 5
}
